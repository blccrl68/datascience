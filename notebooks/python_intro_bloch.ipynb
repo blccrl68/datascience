{
 "cells": [
  {
   "cell_type": "markdown",
   "id": "28051658-f400-4e4b-b9ee-e559fc42843b",
   "metadata": {},
   "source": [
    "#test"
   ]
  },
  {
   "cell_type": "code",
   "execution_count": 1,
   "id": "857d1344-94a3-4953-b33a-64b3a39552fa",
   "metadata": {},
   "outputs": [
    {
     "name": "stdout",
     "output_type": "stream",
     "text": [
      "ciao!\n"
     ]
    }
   ],
   "source": [
    "print('ciao!')"
   ]
  },
  {
   "cell_type": "code",
   "execution_count": 1,
   "id": "eedaa2fb-3582-4d24-b775-fdb7ec4fc0a5",
   "metadata": {},
   "outputs": [
    {
     "data": {
      "text/plain": [
       "14.5"
      ]
     },
     "execution_count": 1,
     "metadata": {},
     "output_type": "execute_result"
    }
   ],
   "source": [
    "# bool -> int -> float -> str\n",
    "True + 6 + 7.5\n",
    "#1+6+7.5"
   ]
  },
  {
   "cell_type": "code",
   "execution_count": 3,
   "id": "17690fd3-b128-4617-a0f2-b00fc6ed241e",
   "metadata": {},
   "outputs": [
    {
     "data": {
      "text/plain": [
       "10"
      ]
     },
     "execution_count": 3,
     "metadata": {},
     "output_type": "execute_result"
    }
   ],
   "source": [
    "int(7.5) + 3"
   ]
  },
  {
   "cell_type": "code",
   "execution_count": 5,
   "id": "3eaa9de4-5aba-4d56-9f0b-faafd7f09c03",
   "metadata": {},
   "outputs": [
    {
     "data": {
      "text/plain": [
       "False"
      ]
     },
     "execution_count": 5,
     "metadata": {},
     "output_type": "execute_result"
    }
   ],
   "source": [
    "bool(0)"
   ]
  },
  {
   "cell_type": "code",
   "execution_count": 7,
   "id": "5fb0c5ff-f4c8-4923-a33f-a7ef156de4b8",
   "metadata": {},
   "outputs": [
    {
     "data": {
      "text/plain": [
       "True"
      ]
     },
     "execution_count": 7,
     "metadata": {},
     "output_type": "execute_result"
    }
   ],
   "source": [
    "bool(3)"
   ]
  },
  {
   "cell_type": "code",
   "execution_count": 9,
   "id": "b19ca4ee-3d93-4a10-bf0e-2ca58ac02fa3",
   "metadata": {},
   "outputs": [
    {
     "data": {
      "text/plain": [
       "8"
      ]
     },
     "execution_count": 9,
     "metadata": {},
     "output_type": "execute_result"
    }
   ],
   "source": [
    "#Auto typecasting\n",
    "True + 3 + int(4.5)"
   ]
  },
  {
   "cell_type": "code",
   "execution_count": 11,
   "id": "281701a3-61f9-43e1-96fe-1f061b906214",
   "metadata": {},
   "outputs": [
    {
     "name": "stdout",
     "output_type": "stream",
     "text": [
      "<class 'int'>\n",
      "<class 'float'>\n"
     ]
    }
   ],
   "source": [
    "a=3\n",
    "b=4.5\n",
    "print(type(a))\n",
    "print(type(b))"
   ]
  },
  {
   "cell_type": "code",
   "execution_count": 13,
   "id": "7c8549c4-ec43-4c6a-81fc-fb63752ba908",
   "metadata": {},
   "outputs": [
    {
     "data": {
      "text/plain": [
       "7"
      ]
     },
     "execution_count": 13,
     "metadata": {},
     "output_type": "execute_result"
    }
   ],
   "source": [
    "a + int(b)"
   ]
  },
  {
   "cell_type": "code",
   "execution_count": 15,
   "id": "17a4bcd2-a74e-4306-b786-93d8e0b581cf",
   "metadata": {},
   "outputs": [
    {
     "data": {
      "text/plain": [
       "7"
      ]
     },
     "execution_count": 15,
     "metadata": {},
     "output_type": "execute_result"
    }
   ],
   "source": [
    "3 + int('4')"
   ]
  },
  {
   "cell_type": "code",
   "execution_count": 19,
   "id": "f50f2b32-f7e1-42de-b914-7b2b66494bf7",
   "metadata": {},
   "outputs": [
    {
     "data": {
      "text/plain": [
       "4"
      ]
     },
     "execution_count": 19,
     "metadata": {},
     "output_type": "execute_result"
    }
   ],
   "source": [
    "# True -> 1, False -> 0\n",
    "False + 4"
   ]
  },
  {
   "cell_type": "code",
   "execution_count": 21,
   "id": "2fa7f1e8-d102-4159-8979-553ceb8eb5a5",
   "metadata": {},
   "outputs": [
    {
     "data": {
      "text/plain": [
       "123"
      ]
     },
     "execution_count": 21,
     "metadata": {},
     "output_type": "execute_result"
    }
   ],
   "source": [
    "int(123.978)"
   ]
  },
  {
   "cell_type": "code",
   "execution_count": 23,
   "id": "3ddc31bd-12c8-45ba-a1c4-332e6af81d77",
   "metadata": {},
   "outputs": [
    {
     "ename": "TypeError",
     "evalue": "int() argument must be a string, a bytes-like object or a real number, not 'complex'",
     "output_type": "error",
     "traceback": [
      "\u001b[1;31m---------------------------------------------------------------------------\u001b[0m",
      "\u001b[1;31mTypeError\u001b[0m                                 Traceback (most recent call last)",
      "Cell \u001b[1;32mIn[23], line 1\u001b[0m\n\u001b[1;32m----> 1\u001b[0m \u001b[38;5;28mint\u001b[39m(\u001b[38;5;241m10\u001b[39m\u001b[38;5;241m+\u001b[39m\u001b[38;5;241m5\u001b[39mj)\n",
      "\u001b[1;31mTypeError\u001b[0m: int() argument must be a string, a bytes-like object or a real number, not 'complex'"
     ]
    }
   ],
   "source": [
    "int(10+5j)"
   ]
  },
  {
   "cell_type": "code",
   "execution_count": 25,
   "id": "faf6fb9b-3eee-46a7-8e8c-85b1536def01",
   "metadata": {},
   "outputs": [
    {
     "data": {
      "text/plain": [
       "1"
      ]
     },
     "execution_count": 25,
     "metadata": {},
     "output_type": "execute_result"
    }
   ],
   "source": [
    "int(True)"
   ]
  },
  {
   "cell_type": "code",
   "execution_count": 27,
   "id": "86e8caee-ff6f-43a7-a2ce-63049e687a36",
   "metadata": {},
   "outputs": [
    {
     "data": {
      "text/plain": [
       "0"
      ]
     },
     "execution_count": 27,
     "metadata": {},
     "output_type": "execute_result"
    }
   ],
   "source": [
    "int(False)"
   ]
  },
  {
   "cell_type": "code",
   "execution_count": 29,
   "id": "46711244-36d6-4278-b9da-ae0e310c0b51",
   "metadata": {},
   "outputs": [
    {
     "data": {
      "text/plain": [
       "10"
      ]
     },
     "execution_count": 29,
     "metadata": {},
     "output_type": "execute_result"
    }
   ],
   "source": [
    "int(\"10\")"
   ]
  },
  {
   "cell_type": "code",
   "execution_count": 33,
   "id": "a896efee-719b-4aa4-82bf-0fd81080586d",
   "metadata": {},
   "outputs": [
    {
     "ename": "ValueError",
     "evalue": "invalid literal for int() with base 10: '10.5'",
     "output_type": "error",
     "traceback": [
      "\u001b[1;31m---------------------------------------------------------------------------\u001b[0m",
      "\u001b[1;31mValueError\u001b[0m                                Traceback (most recent call last)",
      "Cell \u001b[1;32mIn[33], line 1\u001b[0m\n\u001b[1;32m----> 1\u001b[0m \u001b[38;5;28mint\u001b[39m(\u001b[38;5;124m\"\u001b[39m\u001b[38;5;124m10.5\u001b[39m\u001b[38;5;124m\"\u001b[39m)\n",
      "\u001b[1;31mValueError\u001b[0m: invalid literal for int() with base 10: '10.5'"
     ]
    }
   ],
   "source": [
    "int(\"10.5\")"
   ]
  },
  {
   "cell_type": "code",
   "execution_count": 35,
   "id": "dc725bd4-4671-4a45-a7f6-ac94e9b86e2e",
   "metadata": {},
   "outputs": [
    {
     "ename": "ValueError",
     "evalue": "invalid literal for int() with base 10: 'ten'",
     "output_type": "error",
     "traceback": [
      "\u001b[1;31m---------------------------------------------------------------------------\u001b[0m",
      "\u001b[1;31mValueError\u001b[0m                                Traceback (most recent call last)",
      "Cell \u001b[1;32mIn[35], line 1\u001b[0m\n\u001b[1;32m----> 1\u001b[0m \u001b[38;5;28mint\u001b[39m(\u001b[38;5;124m\"\u001b[39m\u001b[38;5;124mten\u001b[39m\u001b[38;5;124m\"\u001b[39m)\n",
      "\u001b[1;31mValueError\u001b[0m: invalid literal for int() with base 10: 'ten'"
     ]
    }
   ],
   "source": [
    "int(\"ten\")"
   ]
  },
  {
   "cell_type": "code",
   "execution_count": 37,
   "id": "41056d7c-7388-4305-a98e-4876272f93fa",
   "metadata": {},
   "outputs": [
    {
     "ename": "ValueError",
     "evalue": "invalid literal for int() with base 10: '0B1111'",
     "output_type": "error",
     "traceback": [
      "\u001b[1;31m---------------------------------------------------------------------------\u001b[0m",
      "\u001b[1;31mValueError\u001b[0m                                Traceback (most recent call last)",
      "Cell \u001b[1;32mIn[37], line 1\u001b[0m\n\u001b[1;32m----> 1\u001b[0m \u001b[38;5;28mint\u001b[39m(\u001b[38;5;124m\"\u001b[39m\u001b[38;5;124m0B1111\u001b[39m\u001b[38;5;124m\"\u001b[39m)\n",
      "\u001b[1;31mValueError\u001b[0m: invalid literal for int() with base 10: '0B1111'"
     ]
    }
   ],
   "source": [
    "int(\"0B1111\")"
   ]
  },
  {
   "cell_type": "code",
   "execution_count": 39,
   "id": "e937dd95-9d9b-40c3-b9bd-de8cd1ae2500",
   "metadata": {},
   "outputs": [
    {
     "data": {
      "text/plain": [
       "10.0"
      ]
     },
     "execution_count": 39,
     "metadata": {},
     "output_type": "execute_result"
    }
   ],
   "source": [
    "float(10)"
   ]
  },
  {
   "cell_type": "code",
   "execution_count": 41,
   "id": "1414271e-ae4b-4e12-8f3d-23c223777520",
   "metadata": {},
   "outputs": [
    {
     "ename": "TypeError",
     "evalue": "float() argument must be a string or a real number, not 'complex'",
     "output_type": "error",
     "traceback": [
      "\u001b[1;31m---------------------------------------------------------------------------\u001b[0m",
      "\u001b[1;31mTypeError\u001b[0m                                 Traceback (most recent call last)",
      "Cell \u001b[1;32mIn[41], line 1\u001b[0m\n\u001b[1;32m----> 1\u001b[0m \u001b[38;5;28mfloat\u001b[39m(\u001b[38;5;241m10\u001b[39m\u001b[38;5;241m+\u001b[39m\u001b[38;5;241m5\u001b[39mj)\n",
      "\u001b[1;31mTypeError\u001b[0m: float() argument must be a string or a real number, not 'complex'"
     ]
    }
   ],
   "source": [
    "float(10+5j)"
   ]
  },
  {
   "cell_type": "code",
   "execution_count": 43,
   "id": "3eee219e-c87d-4773-bcf6-e1acf50a9433",
   "metadata": {},
   "outputs": [
    {
     "data": {
      "text/plain": [
       "1.0"
      ]
     },
     "execution_count": 43,
     "metadata": {},
     "output_type": "execute_result"
    }
   ],
   "source": [
    "float(True)"
   ]
  },
  {
   "cell_type": "code",
   "execution_count": 45,
   "id": "317ea3c7-7d39-484d-9915-a2bb96c3eb9e",
   "metadata": {},
   "outputs": [
    {
     "data": {
      "text/plain": [
       "0.0"
      ]
     },
     "execution_count": 45,
     "metadata": {},
     "output_type": "execute_result"
    }
   ],
   "source": [
    "float(False)"
   ]
  },
  {
   "cell_type": "code",
   "execution_count": 47,
   "id": "bd7fc80e-7e42-4842-ab29-46d5a9abcf1b",
   "metadata": {},
   "outputs": [
    {
     "data": {
      "text/plain": [
       "10.0"
      ]
     },
     "execution_count": 47,
     "metadata": {},
     "output_type": "execute_result"
    }
   ],
   "source": [
    "float(\"10\")"
   ]
  },
  {
   "cell_type": "code",
   "execution_count": 49,
   "id": "bf787ddd-4002-4b07-b1ff-91f666de06a7",
   "metadata": {},
   "outputs": [
    {
     "data": {
      "text/plain": [
       "10.5"
      ]
     },
     "execution_count": 49,
     "metadata": {},
     "output_type": "execute_result"
    }
   ],
   "source": [
    "float(\"10.5\")"
   ]
  },
  {
   "cell_type": "code",
   "execution_count": 51,
   "id": "d443871f-e092-4051-9435-3db3a796e0ed",
   "metadata": {},
   "outputs": [
    {
     "ename": "ValueError",
     "evalue": "could not convert string to float: 'ten'",
     "output_type": "error",
     "traceback": [
      "\u001b[1;31m---------------------------------------------------------------------------\u001b[0m",
      "\u001b[1;31mValueError\u001b[0m                                Traceback (most recent call last)",
      "Cell \u001b[1;32mIn[51], line 1\u001b[0m\n\u001b[1;32m----> 1\u001b[0m \u001b[38;5;28mfloat\u001b[39m(\u001b[38;5;124m\"\u001b[39m\u001b[38;5;124mten\u001b[39m\u001b[38;5;124m\"\u001b[39m)\n",
      "\u001b[1;31mValueError\u001b[0m: could not convert string to float: 'ten'"
     ]
    }
   ],
   "source": [
    "float(\"ten\")"
   ]
  },
  {
   "cell_type": "code",
   "execution_count": 53,
   "id": "33cf1655-9c4b-48ed-9e31-9d96b815b0b4",
   "metadata": {},
   "outputs": [
    {
     "ename": "ValueError",
     "evalue": "could not convert string to float: '0B1111'",
     "output_type": "error",
     "traceback": [
      "\u001b[1;31m---------------------------------------------------------------------------\u001b[0m",
      "\u001b[1;31mValueError\u001b[0m                                Traceback (most recent call last)",
      "Cell \u001b[1;32mIn[53], line 1\u001b[0m\n\u001b[1;32m----> 1\u001b[0m \u001b[38;5;28mfloat\u001b[39m(\u001b[38;5;124m\"\u001b[39m\u001b[38;5;124m0B1111\u001b[39m\u001b[38;5;124m\"\u001b[39m)\n",
      "\u001b[1;31mValueError\u001b[0m: could not convert string to float: '0B1111'"
     ]
    }
   ],
   "source": [
    "float(\"0B1111\")"
   ]
  },
  {
   "cell_type": "code",
   "execution_count": 57,
   "id": "5ca2f6e3-cab5-4378-b268-c7d0babde87f",
   "metadata": {},
   "outputs": [
    {
     "data": {
      "text/plain": [
       "False"
      ]
     },
     "execution_count": 57,
     "metadata": {},
     "output_type": "execute_result"
    }
   ],
   "source": [
    "#if input X is int Datatype: if X is 0 gives False otherwise is True\n",
    "bool(0)"
   ]
  },
  {
   "cell_type": "code",
   "execution_count": 61,
   "id": "ffe38300-32e5-40dd-9718-ab326aa09993",
   "metadata": {},
   "outputs": [
    {
     "data": {
      "text/plain": [
       "True"
      ]
     },
     "execution_count": 61,
     "metadata": {},
     "output_type": "execute_result"
    }
   ],
   "source": [
    "bool(1)"
   ]
  },
  {
   "cell_type": "code",
   "execution_count": 63,
   "id": "0cea1a5e-09a1-4f55-b112-bc4b4c15d63f",
   "metadata": {},
   "outputs": [
    {
     "data": {
      "text/plain": [
       "True"
      ]
     },
     "execution_count": 63,
     "metadata": {},
     "output_type": "execute_result"
    }
   ],
   "source": [
    "bool(10)"
   ]
  },
  {
   "cell_type": "code",
   "execution_count": 65,
   "id": "957fe1fb-2e97-4f54-a935-41ae84f6c094",
   "metadata": {},
   "outputs": [
    {
     "data": {
      "text/plain": [
       "True"
      ]
     },
     "execution_count": 65,
     "metadata": {},
     "output_type": "execute_result"
    }
   ],
   "source": [
    "#if input X is float Datatype: if X is 0.0 gives False otherwise is True\n",
    "bool(10.5)"
   ]
  },
  {
   "cell_type": "code",
   "execution_count": 69,
   "id": "4b83d637-5033-43f6-b3a9-5990efec9690",
   "metadata": {},
   "outputs": [
    {
     "data": {
      "text/plain": [
       "True"
      ]
     },
     "execution_count": 69,
     "metadata": {},
     "output_type": "execute_result"
    }
   ],
   "source": [
    "bool(0.178)\n"
   ]
  },
  {
   "cell_type": "code",
   "execution_count": 71,
   "id": "a93e1cef-33b6-4ee8-bb3b-68924f93cc98",
   "metadata": {},
   "outputs": [
    {
     "data": {
      "text/plain": [
       "False"
      ]
     },
     "execution_count": 71,
     "metadata": {},
     "output_type": "execute_result"
    }
   ],
   "source": [
    "bool(0.0)\n"
   ]
  },
  {
   "cell_type": "code",
   "execution_count": 73,
   "id": "95330c87-f993-4b2e-85f7-e9abd5f3925b",
   "metadata": {},
   "outputs": [
    {
     "data": {
      "text/plain": [
       "True"
      ]
     },
     "execution_count": 73,
     "metadata": {},
     "output_type": "execute_result"
    }
   ],
   "source": [
    "#if input X is Complex no. Datatype: if X has both real/imaginary 0 gives False otherwise is True\n",
    "bool(10-2j)"
   ]
  },
  {
   "cell_type": "code",
   "execution_count": 75,
   "id": "fb66bed2-97fd-4156-a9e4-8d69651ff5f3",
   "metadata": {},
   "outputs": [
    {
     "data": {
      "text/plain": [
       "True"
      ]
     },
     "execution_count": 75,
     "metadata": {},
     "output_type": "execute_result"
    }
   ],
   "source": [
    "bool(0+1.5j)\n"
   ]
  },
  {
   "cell_type": "code",
   "execution_count": 77,
   "id": "d125b38d-9da0-4b14-9e6e-9cb753dceef3",
   "metadata": {},
   "outputs": [
    {
     "data": {
      "text/plain": [
       "False"
      ]
     },
     "execution_count": 77,
     "metadata": {},
     "output_type": "execute_result"
    }
   ],
   "source": [
    "bool(0+0j)\n"
   ]
  },
  {
   "cell_type": "code",
   "execution_count": 79,
   "id": "80a5837e-0cf4-43b6-933a-70f48ce0f36f",
   "metadata": {},
   "outputs": [
    {
     "data": {
      "text/plain": [
       "True"
      ]
     },
     "execution_count": 79,
     "metadata": {},
     "output_type": "execute_result"
    }
   ],
   "source": [
    "#if input X is str Datatype: if X is the empty string gives False otherwise is True\n",
    "bool(\"True\")"
   ]
  },
  {
   "cell_type": "code",
   "execution_count": 81,
   "id": "a30ba5b7-aa96-4191-b318-bc29d9672e5b",
   "metadata": {},
   "outputs": [
    {
     "data": {
      "text/plain": [
       "True"
      ]
     },
     "execution_count": 81,
     "metadata": {},
     "output_type": "execute_result"
    }
   ],
   "source": [
    "bool(\"False\")\n"
   ]
  },
  {
   "cell_type": "code",
   "execution_count": 83,
   "id": "2e297b05-fb37-45cb-83a4-223808823848",
   "metadata": {},
   "outputs": [
    {
     "data": {
      "text/plain": [
       "False"
      ]
     },
     "execution_count": 83,
     "metadata": {},
     "output_type": "execute_result"
    }
   ],
   "source": [
    "bool(\"\")"
   ]
  },
  {
   "cell_type": "code",
   "execution_count": 85,
   "id": "50aa924e-7eb1-4de8-a893-fbfb68fd8942",
   "metadata": {},
   "outputs": [
    {
     "data": {
      "text/plain": [
       "'I am a Data Scientist'"
      ]
     },
     "execution_count": 85,
     "metadata": {},
     "output_type": "execute_result"
    }
   ],
   "source": [
    "#SLICING\n",
    "a = \"I am a Data Scientist\"  #indexing start with 0 from 'I', space chr is counted as well,for 'am' then index of a is 2\n",
    "a                            # index 'I'=0, 'space'=1, 'a'=2, 'm'=3 ...and so on\n",
    "                             # index 't'=-1, 's'=-2 ...and so on, in case of REVERSE INDEXING "
   ]
  },
  {
   "cell_type": "code",
   "execution_count": 87,
   "id": "12e29617-579d-4644-9497-daaea995fdad",
   "metadata": {},
   "outputs": [
    {
     "data": {
      "text/plain": [
       "'am'"
      ]
     },
     "execution_count": 87,
     "metadata": {},
     "output_type": "execute_result"
    }
   ],
   "source": [
    "# : -> slicing operator\n",
    "a[2:4] #it prints all letters between index 2 nad 4 excluding the index 4"
   ]
  },
  {
   "cell_type": "code",
   "execution_count": 89,
   "id": "43b90da5-4bc0-48fe-865a-efe9600b617e",
   "metadata": {},
   "outputs": [
    {
     "data": {
      "text/plain": [
       "'Scientist'"
      ]
     },
     "execution_count": 89,
     "metadata": {},
     "output_type": "execute_result"
    }
   ],
   "source": [
    "a[-9:] #using REVERSE INDEXING last char 't' has index -1, so it prints all letters \n",
    "       #from the one in position -9 'S' till the end of the string including the last letter 't'  "
   ]
  },
  {
   "cell_type": "code",
   "execution_count": 91,
   "id": "cf21877f-9ba0-4901-91ca-038ff269a042",
   "metadata": {},
   "outputs": [
    {
     "data": {
      "text/plain": [
       "'Data Scientist'"
      ]
     },
     "execution_count": 91,
     "metadata": {},
     "output_type": "execute_result"
    }
   ],
   "source": [
    "a[7:] #same using indexing it prints from ltter at index 7, 'D' till the end of the string including the last letter 't'"
   ]
  },
  {
   "cell_type": "code",
   "execution_count": 93,
   "id": "5ca8ca23-e590-4525-9803-bcd7adf9aa21",
   "metadata": {},
   "outputs": [
    {
     "data": {
      "text/plain": [
       "'I am a '"
      ]
     },
     "execution_count": 93,
     "metadata": {},
     "output_type": "execute_result"
    }
   ],
   "source": [
    "a[:7] #it print all letter from the first letter 'I' at index 0 till the 'D' at index 7, excluding it"
   ]
  },
  {
   "cell_type": "code",
   "execution_count": 103,
   "id": "20babaab-23ae-469c-9dbc-e166f43065ee",
   "metadata": {},
   "outputs": [
    {
     "name": "stdout",
     "output_type": "stream",
     "text": [
      "[3, 4, 5, 6]\n",
      "[2, 3, 4, 5, 6, 7, 8, 9, 10]\n",
      "[1, 2, 3, 4, 5]\n",
      "[1, 3, 5, 7, 9]\n"
     ]
    }
   ],
   "source": [
    "# Slicing lists\n",
    "my_list = [1,2,3,4,5,6,7,8,9,10]\n",
    "\n",
    "#get slice sl1 starting with index 2 till index 6, 6 excluded\n",
    "sl1 = my_list[2:6]\n",
    "print(sl1) # it prints [3, 4, 5, 6]\n",
    "\n",
    "#get slice sl2 starting with index 1 till the end, last char is included\n",
    "sl2 = my_list[1:]\n",
    "print(sl2) # it prints [2, 3, 4, 5, 6, 7, 8, 9, 10]\n",
    "\n",
    "#get slice sl3 starting at the beginning of the list till index 5, 5 excluded\n",
    "sl3 = my_list[:5] #or my_list[0:5]\n",
    "print(sl3) # it prints [1, 2, 3, 4, 5]\n",
    "\n",
    "#get slice sl4 from the beginning till the end with a step of 2\n",
    "sl4 = my_list[::2]\n",
    "print(sl4) # it prints [1, 3, 5, 7, 9]"
   ]
  },
  {
   "cell_type": "code",
   "execution_count": 113,
   "id": "4bac738f-d71c-42e2-aac9-25da317c62d5",
   "metadata": {},
   "outputs": [
    {
     "name": "stdout",
     "output_type": "stream",
     "text": [
      "World!\n",
      "Hello\n",
      "Hlo ol!\n"
     ]
    }
   ],
   "source": [
    "# Slicing strings\n",
    "my_string = \"Hello, World!\"\n",
    "\n",
    "#get slice sl5 from letter at position 8 (index 7) to the end\n",
    "sl5 = my_string[7:]\n",
    "print(sl5) #it prints \"World!\"\n",
    "\n",
    "#get slice sl6 from the first letter till letter at index 5, 5 excluded\n",
    "sl6 = my_string[:5]\n",
    "print(sl6) #it prints \"Hello\"\n",
    "\n",
    "#get slice sl7 fron the beginning till the end with a step of 2\n",
    "sl7 = my_string[::2]\n",
    "print(sl7) #it prints \"Hlo ol!\""
   ]
  },
  {
   "cell_type": "code",
   "execution_count": 119,
   "id": "e2aa1754-5503-46c7-8745-aa003d04e4dc",
   "metadata": {},
   "outputs": [
    {
     "name": "stdout",
     "output_type": "stream",
     "text": [
      "[9, 10]\n",
      "[1, 2, 3, 4, 5, 6, 7]\n",
      "[10, 9, 8, 7, 6, 5, 4, 3, 2, 1]\n"
     ]
    }
   ],
   "source": [
    "# Slicing using REVERSE INDEXING, examples with lists\n",
    "my_list = [1, 2, 3, 4, 5, 6, 7, 8, 9, 10]\n",
    "\n",
    "#get slice sl8 from the second last item till the last one\n",
    "sl8 = my_list[-2:]\n",
    "print(sl8) #it prints [9, 10]\n",
    "\n",
    "#get slice sl9 from first item till 3rd last one, 3rd last one excluded\n",
    "sl9 = my_list[:-3]\n",
    "print(sl9) #it prints [1, 2, 3, 4, 5, 6, 7]\n",
    "\n",
    "#get slice sl10 of the entire list printed in reverse order\n",
    "sl10 = my_list[::-1]\n",
    "print(sl10) #it prints [10, 9, 8, 7, 6, 5, 4, 3, 2, 1]"
   ]
  },
  {
   "cell_type": "code",
   "execution_count": 121,
   "id": "cccdc7bf-1d5d-426b-944b-3e7faa72e7f1",
   "metadata": {},
   "outputs": [
    {
     "name": "stdout",
     "output_type": "stream",
     "text": [
      "14\n",
      "6\n",
      "40\n",
      "10000\n",
      "2.5\n",
      "2\n"
     ]
    }
   ],
   "source": [
    "#arithmetic operators\n",
    "print (10 + 4) #add (output 14)\n",
    "print(10 - 4) #subtract (output 6)\n",
    "print(10 * 4) #multiply (output 40)\n",
    "print(10**4) #power (output 10000)\n",
    "print(10 / 4) #divide (output 2.5)\n",
    "print(10 % 4) #modulo (output 2) - also know as reminder"
   ]
  },
  {
   "cell_type": "code",
   "execution_count": 123,
   "id": "ba703a60-b47d-4a04-adb7-4638e8b85125",
   "metadata": {},
   "outputs": [
    {
     "name": "stdout",
     "output_type": "stream",
     "text": [
      "True\n",
      "False\n",
      "True\n",
      "False\n",
      "True\n",
      "False\n"
     ]
    }
   ],
   "source": [
    "#Comparison operator\n",
    "print(5 > 3) #true if grater then, false otherwise\n",
    "print(5 < 3) #true if less then, false otherwise\n",
    "print(5 >= 3) #true if grater then or equal to, false otherwise\n",
    "print(5 <= 3) #true if less then or equal to, false otherwise\n",
    "print(5 != 3) #true if differernt, false otherwise\n",
    "print(5 == 3) #true if equal, false otherwise "
   ]
  },
  {
   "cell_type": "code",
   "execution_count": 125,
   "id": "a6828640-080e-4956-bb7d-687934379229",
   "metadata": {},
   "outputs": [
    {
     "data": {
      "text/plain": [
       "True"
      ]
     },
     "execution_count": 125,
     "metadata": {},
     "output_type": "execute_result"
    }
   ],
   "source": [
    "# == and !== can be applied also with arguments of different datatypes\n",
    "10==True"
   ]
  },
  {
   "cell_type": "code",
   "execution_count": 127,
   "id": "0a8e3db2-ab96-40dc-9201-aa25d051a5df",
   "metadata": {},
   "outputs": [
    {
     "data": {
      "text/plain": [
       "True"
      ]
     },
     "execution_count": 127,
     "metadata": {},
     "output_type": "execute_result"
    }
   ],
   "source": [
    "10!='durga'"
   ]
  },
  {
   "cell_type": "code",
   "execution_count": 133,
   "id": "6ca3bb7d-a38e-4a96-a9e1-a27329d12109",
   "metadata": {},
   "outputs": [
    {
     "name": "stdout",
     "output_type": "stream",
     "text": [
      "Both greather than 0\n",
      "Either a or b is greather than 0\n",
      "b is negative\n"
     ]
    }
   ],
   "source": [
    "#Boolean operators, for combined conditional statements eval. \n",
    "# priority : not, and or\n",
    "# logical AND\n",
    "a = 10\n",
    "b = 20\n",
    "if a > 0 and b > 0 :\n",
    "    print(\"Both greather than 0\")\n",
    "\n",
    "# logical OR\n",
    "b = -5\n",
    "if a > 0 or b > 0 :\n",
    "    print(\"Either a or b is greather than 0\")\n",
    "    \n",
    "# logical NOT\n",
    "if not (b > 0) :\n",
    "    print(\"b is negative\")"
   ]
  },
  {
   "cell_type": "code",
   "execution_count": null,
   "id": "0fad6e20-02e2-4228-b85c-06a170d5bebd",
   "metadata": {},
   "outputs": [],
   "source": [
    "# BITWISE operators"
   ]
  },
  {
   "cell_type": "code",
   "execution_count": 137,
   "id": "92dd0871-4cef-4743-b63b-0ce823b7dc38",
   "metadata": {},
   "outputs": [
    {
     "name": "stdout",
     "output_type": "stream",
     "text": [
      "10\n"
     ]
    }
   ],
   "source": [
    "# Assignment operators\n",
    "# = operator\n",
    "x = 10\n",
    "print(x) # output 10"
   ]
  },
  {
   "cell_type": "code",
   "execution_count": 139,
   "id": "6ef98f0b-8ee0-4767-82ea-ec602025b8c7",
   "metadata": {},
   "outputs": [
    {
     "name": "stdout",
     "output_type": "stream",
     "text": [
      "15\n"
     ]
    }
   ],
   "source": [
    "# += operator\n",
    "x += 5 # equivalent to x = x + 5\n",
    "print(x) # output 15"
   ]
  },
  {
   "cell_type": "code",
   "execution_count": 141,
   "id": "7659f05c-5a09-4eda-961e-13b9187c2f44",
   "metadata": {},
   "outputs": [
    {
     "name": "stdout",
     "output_type": "stream",
     "text": [
      "12\n"
     ]
    }
   ],
   "source": [
    "# -= operator\n",
    "x -= 3 # equiv. x = x - 3\n",
    "print(x) # output 12"
   ]
  },
  {
   "cell_type": "code",
   "execution_count": 143,
   "id": "58ed72fb-9bc5-4aec-a6fb-7d576def79cf",
   "metadata": {},
   "outputs": [
    {
     "name": "stdout",
     "output_type": "stream",
     "text": [
      "24\n"
     ]
    }
   ],
   "source": [
    "# *= operator\n",
    "x *= 2 # equiv. x = x * 2\n",
    "print(x) # output 24"
   ]
  },
  {
   "cell_type": "code",
   "execution_count": 145,
   "id": "bcfd8612-03b1-4371-b255-458799b04418",
   "metadata": {},
   "outputs": [
    {
     "name": "stdout",
     "output_type": "stream",
     "text": [
      "6.0\n"
     ]
    }
   ],
   "source": [
    "# /= operator\n",
    "x /= 4 # equiv. x = x / 4\n",
    "print(x) # output 6.0"
   ]
  },
  {
   "cell_type": "code",
   "execution_count": 147,
   "id": "e846c00e-e52c-4780-b034-f8d58ee92d57",
   "metadata": {},
   "outputs": [
    {
     "name": "stdout",
     "output_type": "stream",
     "text": [
      "0.0\n"
     ]
    }
   ],
   "source": [
    "# %= operator\n",
    "x %= 3 # equiv. x = x % 3\n",
    "print(x) # output 0.0"
   ]
  },
  {
   "cell_type": "code",
   "execution_count": 149,
   "id": "8262747e-be57-491f-baec-f13f3879a209",
   "metadata": {},
   "outputs": [
    {
     "name": "stdout",
     "output_type": "stream",
     "text": [
      "0.0\n"
     ]
    }
   ],
   "source": [
    "# **= operator\n",
    "x **= 2 # equiv. x = x ** 2\n",
    "print(x) # output 0.0"
   ]
  },
  {
   "cell_type": "code",
   "execution_count": 153,
   "id": "cd78c1c1-87e0-4c2f-8bfa-0acfcc829c8e",
   "metadata": {},
   "outputs": [
    {
     "name": "stdout",
     "output_type": "stream",
     "text": [
      "0.0\n"
     ]
    }
   ],
   "source": [
    "# //= operator\n",
    "x //= 3 # equiv. x = x // 3\n",
    "print(x) # output 0.0"
   ]
  },
  {
   "cell_type": "code",
   "execution_count": 155,
   "id": "c16b5642-f5da-43ea-8ce5-0d31bd5d0ac1",
   "metadata": {},
   "outputs": [
    {
     "ename": "NameError",
     "evalue": "name 'y' is not defined",
     "output_type": "error",
     "traceback": [
      "\u001b[1;31m---------------------------------------------------------------------------\u001b[0m",
      "\u001b[1;31mNameError\u001b[0m                                 Traceback (most recent call last)",
      "Cell \u001b[1;32mIn[155], line 2\u001b[0m\n\u001b[0;32m      1\u001b[0m \u001b[38;5;66;03m# Practice\u001b[39;00m\n\u001b[1;32m----> 2\u001b[0m y \u001b[38;5;241m+\u001b[39m\u001b[38;5;241m=\u001b[39m \u001b[38;5;241m3\u001b[39m\n\u001b[0;32m      3\u001b[0m \u001b[38;5;28mprint\u001b[39m(y)\n",
      "\u001b[1;31mNameError\u001b[0m: name 'y' is not defined"
     ]
    }
   ],
   "source": [
    "# Practice\n",
    "# 1) Assignment \n",
    "y += 3\n",
    "print(y) # throw error if y is not initialized\n",
    "         # NameError: name 'y' is not defined"
   ]
  },
  {
   "cell_type": "code",
   "execution_count": 157,
   "id": "e92c256f-cb5c-4834-a880-a659dec3daa9",
   "metadata": {},
   "outputs": [
    {
     "ename": "TypeError",
     "evalue": "'>' not supported between instances of 'str' and 'int'",
     "output_type": "error",
     "traceback": [
      "\u001b[1;31m---------------------------------------------------------------------------\u001b[0m",
      "\u001b[1;31mTypeError\u001b[0m                                 Traceback (most recent call last)",
      "Cell \u001b[1;32mIn[157], line 4\u001b[0m\n\u001b[0;32m      2\u001b[0m x \u001b[38;5;241m=\u001b[39m \u001b[38;5;124m'\u001b[39m\u001b[38;5;124mone\u001b[39m\u001b[38;5;124m'\u001b[39m\n\u001b[0;32m      3\u001b[0m y \u001b[38;5;241m=\u001b[39m \u001b[38;5;241m2\u001b[39m\n\u001b[1;32m----> 4\u001b[0m \u001b[38;5;28mprint\u001b[39m(x \u001b[38;5;241m>\u001b[39m y)\n",
      "\u001b[1;31mTypeError\u001b[0m: '>' not supported between instances of 'str' and 'int'"
     ]
    }
   ],
   "source": [
    "# 2) comparison\n",
    "x = 'one'\n",
    "y = 2\n",
    "print(x > y) # throw error if datatyoe do not match\n",
    "             # TypeError: '>' not supported between instances of 'str' and 'int'"
   ]
  },
  {
   "cell_type": "code",
   "execution_count": 159,
   "id": "20a6ca88-7265-465a-8189-5a262d4c8715",
   "metadata": {},
   "outputs": [
    {
     "name": "stdout",
     "output_type": "stream",
     "text": [
      "False\n"
     ]
    }
   ],
   "source": [
    "print(x == y) # output false"
   ]
  },
  {
   "cell_type": "code",
   "execution_count": 165,
   "id": "337a5223-fdb6-4add-bb37-14c813b0c051",
   "metadata": {},
   "outputs": [
    {
     "name": "stdout",
     "output_type": "stream",
     "text": [
      "2\n"
     ]
    }
   ],
   "source": [
    "# 3) boolean\n",
    "print(y or x)"
   ]
  },
  {
   "cell_type": "code",
   "execution_count": 167,
   "id": "3bfa43d4-85cc-42ff-84b1-f32ec2fa4209",
   "metadata": {},
   "outputs": [
    {
     "name": "stdout",
     "output_type": "stream",
     "text": [
      "False\n"
     ]
    }
   ],
   "source": [
    "print(not x)"
   ]
  },
  {
   "cell_type": "code",
   "execution_count": null,
   "id": "b84b3f99-6563-470f-909f-ef85722fe067",
   "metadata": {},
   "outputs": [],
   "source": []
  }
 ],
 "metadata": {
  "kernelspec": {
   "display_name": "Python 3 (ipykernel)",
   "language": "python",
   "name": "python3"
  },
  "language_info": {
   "codemirror_mode": {
    "name": "ipython",
    "version": 3
   },
   "file_extension": ".py",
   "mimetype": "text/x-python",
   "name": "python",
   "nbconvert_exporter": "python",
   "pygments_lexer": "ipython3",
   "version": "3.12.7"
  }
 },
 "nbformat": 4,
 "nbformat_minor": 5
}
