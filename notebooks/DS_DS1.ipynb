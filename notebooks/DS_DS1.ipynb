{
 "cells": [
  {
   "cell_type": "markdown",
   "id": "697c1491-7313-4f88-85c7-b2f64819b25b",
   "metadata": {},
   "source": [
    "1. List"
   ]
  },
  {
   "cell_type": "code",
   "execution_count": 74,
   "id": "a8173501-c0fe-4d7b-98dc-43f23d6bdbb8",
   "metadata": {},
   "outputs": [
    {
     "name": "stdout",
     "output_type": "stream",
     "text": [
      "Avg. temperature : 34.042857142857144\n",
      " \n",
      "34.1\n",
      " \n",
      "[33.0, 35.0, 34.1, 36.1]\n",
      "[32.5, 32.2, 33.0]\n",
      "[33.7, 32.2, 33.0, 35.0, 34.1, 36.1, 35.4]\n",
      "[33.7, 32.2, 33.0, 35.0, 34.1, 36.1, 35.4, 36.2]\n",
      "[33.7, 32.2, 33.0, 33.6, 35.0, 34.1, 36.1, 35.4, 36.2]\n",
      "[33.7, 32.2, 33.0, 33.6, 35.0, 34.1, 36.1, 35.4]\n",
      "[33.7, 32.2, 33.0, 33.6, 34.1, 36.1, 35.4]\n",
      "36.1\n",
      "[32.2, 33.0, 33.6, 33.7, 34.1, 35.4, 36.1]\n",
      "[32.2, 33.0, 33.7, 34.1, 35.4, 36.1]\n",
      "[33.6, 37.4]\n",
      "[32.2, 33.0, 33.7, 34.1, 35.4, 36.1, 33.6, 37.4]\n",
      "[33.6, 37.4, 33.6, 37.4]\n",
      "0\n"
     ]
    }
   ],
   "source": [
    "#Daily temp. collected by sensors\n",
    "\n",
    "daily_temp = [32.5, 32.2, 33.0, 35.0, 34.1, 36.1, 35.4]\n",
    "\n",
    "print(f'Avg. temperature : {(sum(daily_temp)/len(daily_temp))}') #Avarage temp - sum adds all values in the list, len compute how many items arein list\n",
    "print(' ')\n",
    "\n",
    "#Accessing elemeny by index\n",
    "print(daily_temp[4])\n",
    "print(' ')\n",
    "\n",
    "#slicing\n",
    "print(daily_temp[-5:-1])\n",
    "print(daily_temp[:3])\n",
    "\n",
    "daily_temp[0] = 33.7 # update first item\n",
    "print(daily_temp)\n",
    "\n",
    "# Append\n",
    "daily_temp.append(36.2)\n",
    "print(daily_temp)\n",
    "\n",
    "# insert\n",
    "daily_temp.insert(3, 33.6)\n",
    "print(daily_temp)\n",
    "\n",
    "# Remove\n",
    "daily_temp.remove(36.2)\n",
    "print(daily_temp)\n",
    "\n",
    "# remove at position\n",
    "del daily_temp[4]\n",
    "print(daily_temp)\n",
    "\n",
    "# max\n",
    "print(max(daily_temp))\n",
    "\n",
    "# sort\n",
    "daily_temp.sort()\n",
    "print(daily_temp)\n",
    "\n",
    "# pop\n",
    "daily_temp.pop(2)\n",
    "print(daily_temp)\n",
    "\n",
    "# concat\n",
    "temp = [33.6, 37.4]\n",
    "print(temp)\n",
    "print(daily_temp + temp)\n",
    "\n",
    "# repetition\n",
    "print(temp * 2)\n",
    "\n",
    "# find index of element\n",
    "print(daily_temp.index(32.2))"
   ]
  },
  {
   "cell_type": "markdown",
   "id": "39328ba5-4e7a-4a05-91f7-ea62dc240e85",
   "metadata": {},
   "source": [
    "2.  Tuple"
   ]
  },
  {
   "cell_type": "code",
   "execution_count": 80,
   "id": "682f72f5-1e92-4214-ba34-3f659def182e",
   "metadata": {},
   "outputs": [
    {
     "name": "stdout",
     "output_type": "stream",
     "text": [
      "Avg. temperature : 34.042857142857144\n",
      " \n",
      "34.1\n",
      " \n",
      "(33.0, 35.0, 34.1, 36.1)\n",
      "(32.5, 32.2, 33.0)\n",
      "(32.5, 32.2, 33.0, 35.0, 34.1, 36.1, 35.4, 33.6, 37.4)\n",
      "(33.6, 37.4)\n",
      "(33.6, 37.4, 33.6, 37.4)\n",
      "1\n",
      "[32.5, 32.2, 33.0, 35.0, 34.1, 36.1, 35.4]\n",
      "(32.5, 32.2, 33.0, 35.0, 34.1, 36.1, 35.4)\n"
     ]
    }
   ],
   "source": [
    "#Daily temp. collected by sensors\n",
    "\n",
    "daily_temp = (32.5, 32.2, 33.0, 35.0, 34.1, 36.1, 35.4)\n",
    "temp = (33.6, 37.4)\n",
    "\n",
    "# NO append! NO sort! tuple are similar to list but cannot be modified\n",
    "# it can access items and perform slicing and concatenation \n",
    "print(f'Avg. temperature : {(sum(daily_temp)/len(daily_temp))}') #Avarage temp - sum adds all values in the list, len compute how many items arein list\n",
    "print(' ')\n",
    "\n",
    "#Accessing elemeny by index\n",
    "print(daily_temp[4])\n",
    "print(' ')\n",
    "\n",
    "#slicing\n",
    "print(daily_temp[-5:-1])\n",
    "print(daily_temp[:3])\n",
    "\n",
    "#concat\n",
    "print(daily_temp + temp)\n",
    "\n",
    "# repetition\n",
    "print(temp)\n",
    "print(temp * 2)\n",
    "\n",
    "# find index of element\n",
    "print(daily_temp.index(32.2))\n",
    "\n",
    "# generate list from tuple\n",
    "tmp_l = list(daily_temp)\n",
    "print(tmp_l)\n",
    "\n",
    "# genrate tuple from list\n",
    "t_from_l = tuple(tmp_l)\n",
    "print(t_from_l)"
   ]
  },
  {
   "cell_type": "raw",
   "id": "7799a902-23dd-44d5-90e4-81135154893f",
   "metadata": {},
   "source": [
    "3. Dictionary"
   ]
  },
  {
   "cell_type": "code",
   "execution_count": 110,
   "id": "d69cf026-f874-4942-af1a-ff27a8953d32",
   "metadata": {},
   "outputs": [
    {
     "name": "stdout",
     "output_type": "stream",
     "text": [
      "{'Monday': 32.5, 'Tuesday': 35.6, 'Wednesday': 37.3, 'Thursday': 33.4}\n",
      "37.3\n",
      "Not Available\n",
      "{'Monday': 32.5, 'Tuesday': 35.6, 'Wednesday': 37.3, 'Thursday': 33.4, 'Sunday': 35.2}\n",
      "{'Monday': 32.5, 'Tuesday': 35.6, 'Wednesday': 37.3, 'Thursday': 33.4, 'Sunday': 36.1}\n",
      "{'Monday': 32.5, 'Wednesday': 37.3, 'Thursday': 33.4, 'Sunday': 36.1}\n",
      "4\n",
      "False\n",
      "True\n",
      "weather\t{'Monday': 32.5, 'Wednesday': 37.3, 'Thursday': 33.4, 'Sunday': 36.1}\n",
      "w_new\t{'Monday': 32.5, 'Wednesday': 37.3, 'Thursday': 33.4, 'Sunday': 36.1}\n"
     ]
    }
   ],
   "source": [
    "# DS like list but with no repeated value inside \n",
    "#{key : value} here key must be unique, can be repeated in different Dictionaries\n",
    "#[key: value] cannot be sorted\n",
    "\n",
    "#Weather Data\n",
    "weather = {\n",
    "    'Monday': 32.5,\n",
    "    'Tuesday': 35.6,\n",
    "    'Wednesday': 37.3,\n",
    "    'Thursday': 33.4\n",
    "}\n",
    "\n",
    "print(weather)\n",
    "\n",
    "#Access with key, gives error if missing\n",
    "print(weather['Wednesday'])\n",
    "\n",
    "#Accessing also for missing keys, signalling message then \n",
    "#NB: get() can be used for other DataStructures too\n",
    "print(weather.get('Friday','Not Available'))\n",
    "\n",
    "#Add new pair key:value / Update value for pair key:value in dictionary\n",
    "weather['Sunday'] = 35.2\n",
    "print(weather)\n",
    "\n",
    "weather['Sunday'] = 36.1\n",
    "print(weather)\n",
    "\n",
    "#Remove specific key\n",
    "weather.pop('Tuesday')\n",
    "print(weather)\n",
    "\n",
    "#len gives the no. of items in the dictionary\n",
    "print(len(weather))\n",
    "\n",
    "#check whether a key is present or not\n",
    "print('Tuesday' in weather)\n",
    "print('Tuesday' not in weather)\n",
    "\n",
    "#duplicate dictionary\n",
    "w_new = weather.copy()\n",
    "print(f'weather\\t{weather}')\n",
    "print(f'w_new\\t{w_new}')"
   ]
  },
  {
   "cell_type": "markdown",
   "id": "f44621aa-f06c-48df-8f6a-7b4986644729",
   "metadata": {},
   "source": [
    "#4. Set"
   ]
  },
  {
   "cell_type": "code",
   "execution_count": 128,
   "id": "0069d31b-6fdd-4992-be45-34a409e2fe7e",
   "metadata": {},
   "outputs": [
    {
     "name": "stdout",
     "output_type": "stream",
     "text": [
      "{32.5, 33.0, 32.2, 35.0, 34.1, 36.1, 34.5}\n",
      "{32.5, 33.0, 32.2, 35.0, 34.1, 36.1, 34.5, 37.0}\n",
      "{32.5, 33.0, 32.2, 35.0, 34.1, 36.1, 34.5, 37.0}\n",
      " \n",
      "{32.5, 33.0, 32.2, 35.0, 34.1, 36.1, 34.5}\n",
      "set()\n"
     ]
    },
    {
     "ename": "NameError",
     "evalue": "name 'daily' is not defined",
     "output_type": "error",
     "traceback": [
      "\u001b[1;31m---------------------------------------------------------------------------\u001b[0m",
      "\u001b[1;31mNameError\u001b[0m                                 Traceback (most recent call last)",
      "Cell \u001b[1;32mIn[128], line 28\u001b[0m\n\u001b[0;32m     26\u001b[0m \u001b[38;5;66;03m#delete the Set\u001b[39;00m\n\u001b[0;32m     27\u001b[0m \u001b[38;5;28;01mdel\u001b[39;00m daily\n\u001b[1;32m---> 28\u001b[0m \u001b[38;5;28mprint\u001b[39m(daily)\n",
      "\u001b[1;31mNameError\u001b[0m: name 'daily' is not defined"
     ]
    }
   ],
   "source": [
    "#Data structure that avoids duplicated values, has no index and items inside are arranged randomly and are unmutable\n",
    "#it uses set operators like, union intersection and substraction \n",
    "#generally Sets are used to eliminate duplicates or for finding missing values\n",
    "\n",
    "daily_temp = {32.5, 32.2, 33.0, 35.0, 34.1, 36.1, 32.2, 33.0, 34.1, 32.5, 34.5}\n",
    "print(daily_temp) #duplicates are ignored\n",
    "\n",
    "#add item to set\n",
    "daily_temp.add(37.0)\n",
    "print(daily_temp)\n",
    "\n",
    "#remove item --it eliminates items, but gives error if item is misssing\n",
    "\"\"\"daily_temp.remove(37.1)\"\"\"\n",
    "\n",
    "#discard item --it eliminates items, no error if item is missing\n",
    "daily_temp.discard(37.1)\n",
    "\n",
    "print(daily_temp)\n",
    "print(' ')\n",
    "#clear all items from set\n",
    "daily = {32.5, 32.2, 33.0, 35.0, 34.1, 36.1, 32.2, 33.0, 34.1, 32.5, 34.5}\n",
    "print(daily)\n",
    "daily.clear()\n",
    "print(daily)\n",
    "\n",
    "#delete the Set\n",
    "del daily\n",
    "print(daily)"
   ]
  },
  {
   "cell_type": "code",
   "execution_count": 154,
   "id": "5d9668b2-cc0b-480d-84bb-1d3d069b8189",
   "metadata": {},
   "outputs": [
    {
     "name": "stdout",
     "output_type": "stream",
     "text": [
      "{1, 2, 3, 4, 5, 6, 7, 9}\n",
      "{3, 4}\n",
      "{1, 5, 6}\n",
      "{9, 2, 7}\n",
      "True\n",
      "set1\t{1, 3, 4, 5, 6}\n",
      "setb\t{1, 3, 4, 5, 6}\n",
      "{3, 4}\n",
      "{1, 5, 6}\n"
     ]
    }
   ],
   "source": [
    "set1 = {1, 3, 4, 5, 6}\n",
    "set2 = {3, 7, 2, 4, 9}\n",
    "#set operators \n",
    "print(set1 | set2) #| union\n",
    "print(set1 & set2) #& intersections\n",
    "print(set1 - set2) #- difference non-commutative \n",
    "print(set2 - set1)\n",
    "print(1 in set1)    #in membership\n",
    "\n",
    "#other functons with Sets\n",
    "#duplication\n",
    "setb = set1.copy()\n",
    "print(f'set1\\t{set1}')\n",
    "print(f'setb\\t{setb}')\n",
    "\n",
    "#function set() convert a data structure to a set\n",
    "list1 = [1, 3, 4, 5, 6]\n",
    "list2 = [3, 4]\n",
    "\n",
    "#common items between lists\n",
    "common = set(list1) & set(list2)\n",
    "print(common)\n",
    "\n",
    "#missing item in list2 but in list1\n",
    "missing = set(list1) - set(list2)\n",
    "print(missing)"
   ]
  },
  {
   "cell_type": "code",
   "execution_count": null,
   "id": "4c7d67d4-3722-49f3-bb60-b3722269ff60",
   "metadata": {},
   "outputs": [],
   "source": []
  }
 ],
 "metadata": {
  "kernelspec": {
   "display_name": "Python 3 (ipykernel)",
   "language": "python",
   "name": "python3"
  },
  "language_info": {
   "codemirror_mode": {
    "name": "ipython",
    "version": 3
   },
   "file_extension": ".py",
   "mimetype": "text/x-python",
   "name": "python",
   "nbconvert_exporter": "python",
   "pygments_lexer": "ipython3",
   "version": "3.12.7"
  },
  "panel-cell-order": [
   "876fd2b5-29c8-4d3d-8473-52b801da1d54"
  ]
 },
 "nbformat": 4,
 "nbformat_minor": 5
}
